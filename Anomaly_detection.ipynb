{
  "nbformat": 4,
  "nbformat_minor": 0,
  "metadata": {
    "colab": {
      "name": "Anomaly detection.ipynb",
      "version": "0.3.2",
      "provenance": [],
      "collapsed_sections": [],
      "include_colab_link": true
    },
    "kernelspec": {
      "name": "python3",
      "display_name": "Python 3"
    },
    "accelerator": "GPU"
  },
  "cells": [
    {
      "cell_type": "markdown",
      "metadata": {
        "id": "view-in-github",
        "colab_type": "text"
      },
      "source": [
        "<a href=\"https://colab.research.google.com/github/coolmechel/Notebook_2/blob/master/Anomaly_detection.ipynb\" target=\"_parent\"><img src=\"https://colab.research.google.com/assets/colab-badge.svg\" alt=\"Open In Colab\"/></a>"
      ]
    },
    {
      "metadata": {
        "id": "HsdJm8HjYCPg",
        "colab_type": "text"
      },
      "cell_type": "markdown",
      "source": [
        "# **ANOMALY DETECTION ALGORITHMS FOR UNIVARIANT AND MULTI VARIANT OUTLIER DETECTION**\n",
        "\n",
        "\n",
        "---\n",
        "\n",
        "## INTRODUCTION\n",
        "\n",
        "\n",
        "> Ever wondered how a fire alarm triggers? Or Google would ask that you confirm your email through SMS after logging in to your email from a different device?\n",
        "You should know that these are machines acting out their protocols and doesn't require a human intervention. These are computer programs in the form of a setup rules that the computer follows and acts upon.\n",
        "Anomaly or Outlier Detection is simply the identification of suspicious or rare events or observations which raises suspicions by differing significantly from the majority of the data. \n",
        "What this means is that, whenever there is a significant rise in temperature beyond a threshold, the fire alarm will go off and as for the email, whenever the user uses a new device not previous registered to that email, the algorithm treats it as an outlier and hence directs you to verify your email.\n",
        "\n",
        "In this Notebook, I will be exploring: \n",
        "\n",
        "*   Industrial application of Anomaly Detections\n",
        "*   Multi variant and Univariant algorithms and example codes.\n",
        "\n",
        "## TYPES OF OUTLIERS\n",
        "There are 3 types of outliers:\n",
        "\n",
        "\n",
        "1.   Point outliers: Observations anomalous with respect to the majority of observations in a feature (univariant outlier)\n",
        "2.   Contextual outliers: Observations considered anomalous given a specific context\n",
        "3.   Collective outliers: A collection of observations anomalous but appear close to one another because they all have a similar anomalous value\n",
        "\n",
        "\n",
        "\n",
        "\n",
        "\n",
        "\n",
        "\n"
      ]
    },
    {
      "metadata": {
        "id": "c4E_n0eUjqCK",
        "colab_type": "text"
      },
      "cell_type": "markdown",
      "source": [
        "## About The Dataset\n",
        "\n",
        "\n",
        "> Iris Dataset is a famous dataset integrated to most machine learning libraries like Sklearn and Tensorflow. The dataset is a multivariant with 3 species:\n",
        "\n",
        "\n",
        "*   Iris Versicolor\n",
        "*   Iris Virginica\n",
        "*   Iris Setosa\n",
        "\n",
        "The dataset consists of 50 samples and 4 features mesured, Sepal Length, Sepal Width, Petal Length and Petal Width making up 150 observations which has found wild use in learning and testing most of the Machine Learning and AI algorithms.\n",
        "\n",
        "\n",
        "\n",
        "\n",
        "\n",
        "\n",
        "\n"
      ]
    },
    {
      "metadata": {
        "id": "9nbC7RggmxYT",
        "colab_type": "text"
      },
      "cell_type": "markdown",
      "source": [
        "\n",
        "\n",
        "---\n",
        "\n",
        "## INDUSTRIAL APPLICATIONS OF ANOMALY DETECTION\n",
        "\n",
        "\n",
        "> **FRAUD DETECTION:**\n",
        "Modern fraud has taken new rules and has extended far beyond payment fraud and has gotten more sophisticated as companies battle to protect themselves and their information against identity theft, degredation of trust, fake user accounts and other safety issues especially in a platform based product.\n",
        "\n",
        "\n",
        "\n",
        "> Large scale machine learning are providing reliable results by collecting related data for the fraudulent activities and studying the thousands of traits and patterns left by the fraudsters which otherwise might have remained unconnected in the vast ocean of data, these machine learning algorithms are able to detect anomalies and indicate propable incidences of abuse and notable companies like Airbnb and Jet.com are already adopting this technique to protect themselves from threats.\n",
        "\n",
        "\n",
        "> **EQUIPMENT FAILURE:** This is another industrial wide application of outlier detection especially in real time. A complex equipment such as a boeing airplane or refinery has several components that are interconnected and well fitted with sensors that are sending out signals in real time to tell the state of their equipments, an alarm will usually go off when there is an anomaly in the transmitted signals. The signals of these equipments are fitted with thresholds and range for optimal and abnormal performances.\n",
        "\n",
        "\n",
        "> **CYBERSECURITY** This is one of the major areas where this models and techniques has been deployed to flag off any form of anomality in the cyber ecosystem especially concerning National securities. We've the heard **firewalls** in China and how effective it is in restricting access to some cyber contents from foreigners. These and many more are the industrial application of this models.\n",
        "\n",
        "\n",
        "\n",
        "\n",
        "\n",
        "\n",
        "\n"
      ]
    },
    {
      "metadata": {
        "id": "mctqxmRgmWM6",
        "colab_type": "text"
      },
      "cell_type": "markdown",
      "source": [
        "Lets import our libraries and dependencies"
      ]
    },
    {
      "metadata": {
        "id": "TFHJTCcooguq",
        "colab_type": "code",
        "colab": {}
      },
      "cell_type": "code",
      "source": [
        "import numpy as np\n",
        "import pandas as pd\n",
        "import matplotlib.pyplot as plt\n",
        "import sklearn\n",
        "from pylab import rcParams"
      ],
      "execution_count": 0,
      "outputs": []
    },
    {
      "metadata": {
        "id": "rRZPDt3lHExX",
        "colab_type": "code",
        "colab": {}
      },
      "cell_type": "code",
      "source": [
        "%matplotlib inline\n",
        "rcParams['figure.figsize'] = 5,4"
      ],
      "execution_count": 0,
      "outputs": []
    },
    {
      "metadata": {
        "id": "6CM_rsWQmn_9",
        "colab_type": "text"
      },
      "cell_type": "markdown",
      "source": [
        ""
      ]
    },
    {
      "metadata": {
        "id": "1FIkJno5Hb7g",
        "colab_type": "code",
        "colab": {
          "base_uri": "https://localhost:8080/",
          "height": 198
        },
        "outputId": "8e6a7460-d1f8-4249-b5b0-e1dd4c69a374"
      },
      "cell_type": "code",
      "source": [
        "data = pd.read_csv('iris.data.csv', header=None, sep=',')\n",
        "data.columns=['Sepal Length', 'Sepal Width', 'Petal Length', 'Petal Width', 'Species']\n",
        "X = data.iloc[:,0:4].values\n",
        "y = data.iloc[:,4].values\n",
        "data.head()"
      ],
      "execution_count": 3,
      "outputs": [
        {
          "output_type": "execute_result",
          "data": {
            "text/html": [
              "<div>\n",
              "<style scoped>\n",
              "    .dataframe tbody tr th:only-of-type {\n",
              "        vertical-align: middle;\n",
              "    }\n",
              "\n",
              "    .dataframe tbody tr th {\n",
              "        vertical-align: top;\n",
              "    }\n",
              "\n",
              "    .dataframe thead th {\n",
              "        text-align: right;\n",
              "    }\n",
              "</style>\n",
              "<table border=\"1\" class=\"dataframe\">\n",
              "  <thead>\n",
              "    <tr style=\"text-align: right;\">\n",
              "      <th></th>\n",
              "      <th>Sepal Length</th>\n",
              "      <th>Sepal Width</th>\n",
              "      <th>Petal Length</th>\n",
              "      <th>Petal Width</th>\n",
              "      <th>Species</th>\n",
              "    </tr>\n",
              "  </thead>\n",
              "  <tbody>\n",
              "    <tr>\n",
              "      <th>0</th>\n",
              "      <td>5.1</td>\n",
              "      <td>3.5</td>\n",
              "      <td>1.4</td>\n",
              "      <td>0.2</td>\n",
              "      <td>setosa</td>\n",
              "    </tr>\n",
              "    <tr>\n",
              "      <th>1</th>\n",
              "      <td>4.9</td>\n",
              "      <td>3.0</td>\n",
              "      <td>1.4</td>\n",
              "      <td>0.2</td>\n",
              "      <td>setosa</td>\n",
              "    </tr>\n",
              "    <tr>\n",
              "      <th>2</th>\n",
              "      <td>4.7</td>\n",
              "      <td>3.2</td>\n",
              "      <td>1.3</td>\n",
              "      <td>0.2</td>\n",
              "      <td>setosa</td>\n",
              "    </tr>\n",
              "    <tr>\n",
              "      <th>3</th>\n",
              "      <td>4.6</td>\n",
              "      <td>3.1</td>\n",
              "      <td>1.5</td>\n",
              "      <td>0.2</td>\n",
              "      <td>setosa</td>\n",
              "    </tr>\n",
              "    <tr>\n",
              "      <th>4</th>\n",
              "      <td>5.0</td>\n",
              "      <td>3.6</td>\n",
              "      <td>1.4</td>\n",
              "      <td>0.2</td>\n",
              "      <td>setosa</td>\n",
              "    </tr>\n",
              "  </tbody>\n",
              "</table>\n",
              "</div>"
            ],
            "text/plain": [
              "   Sepal Length  Sepal Width  Petal Length  Petal Width Species\n",
              "0           5.1          3.5           1.4          0.2  setosa\n",
              "1           4.9          3.0           1.4          0.2  setosa\n",
              "2           4.7          3.2           1.3          0.2  setosa\n",
              "3           4.6          3.1           1.5          0.2  setosa\n",
              "4           5.0          3.6           1.4          0.2  setosa"
            ]
          },
          "metadata": {
            "tags": []
          },
          "execution_count": 3
        }
      ]
    },
    {
      "metadata": {
        "id": "jieb-YYavT9i",
        "colab_type": "text"
      },
      "cell_type": "markdown",
      "source": [
        "## UNIVARIANT ANOMALY DETECTION\n",
        "\n",
        "This type of anomaly detection is carried out on a labelled dataset with one predictant. For this example, we will be considering the features of our dataset and cluster them around itself using boxplots to test for any anomalies."
      ]
    },
    {
      "metadata": {
        "id": "YB1aGG5GIjH6",
        "colab_type": "code",
        "colab": {
          "base_uri": "https://localhost:8080/",
          "height": 267
        },
        "outputId": "1972a61a-081c-4e0f-e4b4-8be8787f0022"
      },
      "cell_type": "code",
      "source": [
        "data.plot(kind=\"box\", subplots=True, layout=(2,2), sharex=False, sharey=False)\n",
        "plt.show()"
      ],
      "execution_count": 4,
      "outputs": [
        {
          "output_type": "display_data",
          "data": {
            "image/png": "[encoded data removed]",
            "text/plain": [
              "<matplotlib.figure.Figure at 0x7f25e349d7b8>"
            ]
          },
          "metadata": {
            "tags": []
          }
        }
      ]
    },
    {
      "metadata": {
        "id": "7uLujE1mACNI",
        "colab_type": "text"
      },
      "cell_type": "markdown",
      "source": [
        "A **box plot** (a.k.a. box and whisker diagram) is a standardized way of displaying the distribution of data based on the five number summary: minimum, first quartile, median, third quartile, and maximum.\n",
        "\n",
        "Based on the above definition, any of sample data that falls outide of the box plot is simply regarded as an outlier or an anomaly.\n",
        "\n",
        "From the above plots, we can alienate few points from the boxplot representing the Sepal Width that lies outside of the box plots and confortably regard themm as our anomalies.\n",
        "\n",
        "If you take a closer look, you will discover that these points lies a little above length 4cm metric of the data"
      ]
    },
    {
      "metadata": {
        "id": "Mmg9BIzgJNH-",
        "colab_type": "code",
        "colab": {
          "base_uri": "https://localhost:8080/",
          "height": 138
        },
        "outputId": "208b742a-fd88-43c6-ae7a-4b75d1964f7d"
      },
      "cell_type": "code",
      "source": [
        "Sepal_Width = X[:,1]\n",
        "iris_outliers = (Sepal_Width > 4)\n",
        "data[iris_outliers]"
      ],
      "execution_count": 5,
      "outputs": [
        {
          "output_type": "execute_result",
          "data": {
            "text/html": [
              "<div>\n",
              "<style scoped>\n",
              "    .dataframe tbody tr th:only-of-type {\n",
              "        vertical-align: middle;\n",
              "    }\n",
              "\n",
              "    .dataframe tbody tr th {\n",
              "        vertical-align: top;\n",
              "    }\n",
              "\n",
              "    .dataframe thead th {\n",
              "        text-align: right;\n",
              "    }\n",
              "</style>\n",
              "<table border=\"1\" class=\"dataframe\">\n",
              "  <thead>\n",
              "    <tr style=\"text-align: right;\">\n",
              "      <th></th>\n",
              "      <th>Sepal Length</th>\n",
              "      <th>Sepal Width</th>\n",
              "      <th>Petal Length</th>\n",
              "      <th>Petal Width</th>\n",
              "      <th>Species</th>\n",
              "    </tr>\n",
              "  </thead>\n",
              "  <tbody>\n",
              "    <tr>\n",
              "      <th>15</th>\n",
              "      <td>5.7</td>\n",
              "      <td>4.4</td>\n",
              "      <td>1.5</td>\n",
              "      <td>0.4</td>\n",
              "      <td>setosa</td>\n",
              "    </tr>\n",
              "    <tr>\n",
              "      <th>32</th>\n",
              "      <td>5.2</td>\n",
              "      <td>4.1</td>\n",
              "      <td>1.5</td>\n",
              "      <td>0.1</td>\n",
              "      <td>setosa</td>\n",
              "    </tr>\n",
              "    <tr>\n",
              "      <th>33</th>\n",
              "      <td>5.5</td>\n",
              "      <td>4.2</td>\n",
              "      <td>1.4</td>\n",
              "      <td>0.2</td>\n",
              "      <td>setosa</td>\n",
              "    </tr>\n",
              "  </tbody>\n",
              "</table>\n",
              "</div>"
            ],
            "text/plain": [
              "    Sepal Length  Sepal Width  Petal Length  Petal Width Species\n",
              "15           5.7          4.4           1.5          0.4  setosa\n",
              "32           5.2          4.1           1.5          0.1  setosa\n",
              "33           5.5          4.2           1.4          0.2  setosa"
            ]
          },
          "metadata": {
            "tags": []
          },
          "execution_count": 5
        }
      ]
    },
    {
      "metadata": {
        "id": "kDoCity1J0DR",
        "colab_type": "code",
        "colab": {
          "base_uri": "https://localhost:8080/",
          "height": 78
        },
        "outputId": "853f7355-1fa2-4095-fa49-991963e6e819"
      },
      "cell_type": "code",
      "source": [
        "Sepal_Width = X[:,1]\n",
        "iris_outliers = (Sepal_Width < 2.05)\n",
        "data[iris_outliers]"
      ],
      "execution_count": 6,
      "outputs": [
        {
          "output_type": "execute_result",
          "data": {
            "text/html": [
              "<div>\n",
              "<style scoped>\n",
              "    .dataframe tbody tr th:only-of-type {\n",
              "        vertical-align: middle;\n",
              "    }\n",
              "\n",
              "    .dataframe tbody tr th {\n",
              "        vertical-align: top;\n",
              "    }\n",
              "\n",
              "    .dataframe thead th {\n",
              "        text-align: right;\n",
              "    }\n",
              "</style>\n",
              "<table border=\"1\" class=\"dataframe\">\n",
              "  <thead>\n",
              "    <tr style=\"text-align: right;\">\n",
              "      <th></th>\n",
              "      <th>Sepal Length</th>\n",
              "      <th>Sepal Width</th>\n",
              "      <th>Petal Length</th>\n",
              "      <th>Petal Width</th>\n",
              "      <th>Species</th>\n",
              "    </tr>\n",
              "  </thead>\n",
              "  <tbody>\n",
              "    <tr>\n",
              "      <th>60</th>\n",
              "      <td>5.0</td>\n",
              "      <td>2.0</td>\n",
              "      <td>3.5</td>\n",
              "      <td>1.0</td>\n",
              "      <td>versicolor</td>\n",
              "    </tr>\n",
              "  </tbody>\n",
              "</table>\n",
              "</div>"
            ],
            "text/plain": [
              "    Sepal Length  Sepal Width  Petal Length  Petal Width     Species\n",
              "60           5.0          2.0           3.5          1.0  versicolor"
            ]
          },
          "metadata": {
            "tags": []
          },
          "execution_count": 6
        }
      ]
    },
    {
      "metadata": {
        "id": "UgRo7K8hMHxU",
        "colab_type": "text"
      },
      "cell_type": "markdown",
      "source": [
        "We can further confirm these points as outliers using the **Tukey Method**.\n",
        "\n",
        "This method uses outlier labelling or a mathematical formular to mark points beyond a given range in the wiskers.\n",
        "\n",
        "Interquartile Range (IQR) = The distance between the 1st quartile (at 25%) and the the 3rd quartile (at 75%)\n",
        "\n",
        "\n",
        "\n",
        "*   a = Q1 - 1.5(IQR)\n",
        "*   b = Q3 + 1.5(IQR)\n",
        "\n",
        "**If the minimum value < a, or maximum value > b, then the variable is suspect for outliers.**\n",
        "\n"
      ]
    },
    {
      "metadata": {
        "id": "GpoRq5_KKN4p",
        "colab_type": "code",
        "colab": {
          "base_uri": "https://localhost:8080/",
          "height": 288
        },
        "outputId": "469f3b76-e567-47ed-8613-78cef76f7659"
      },
      "cell_type": "code",
      "source": [
        "pd.options.display.float_format = '{:.1f}'.format\n",
        "X_data = pd.DataFrame(X)\n",
        "X_data.describe()"
      ],
      "execution_count": 7,
      "outputs": [
        {
          "output_type": "execute_result",
          "data": {
            "text/html": [
              "<div>\n",
              "<style scoped>\n",
              "    .dataframe tbody tr th:only-of-type {\n",
              "        vertical-align: middle;\n",
              "    }\n",
              "\n",
              "    .dataframe tbody tr th {\n",
              "        vertical-align: top;\n",
              "    }\n",
              "\n",
              "    .dataframe thead th {\n",
              "        text-align: right;\n",
              "    }\n",
              "</style>\n",
              "<table border=\"1\" class=\"dataframe\">\n",
              "  <thead>\n",
              "    <tr style=\"text-align: right;\">\n",
              "      <th></th>\n",
              "      <th>0</th>\n",
              "      <th>1</th>\n",
              "      <th>2</th>\n",
              "      <th>3</th>\n",
              "    </tr>\n",
              "  </thead>\n",
              "  <tbody>\n",
              "    <tr>\n",
              "      <th>count</th>\n",
              "      <td>150.0</td>\n",
              "      <td>150.0</td>\n",
              "      <td>150.0</td>\n",
              "      <td>150.0</td>\n",
              "    </tr>\n",
              "    <tr>\n",
              "      <th>mean</th>\n",
              "      <td>5.8</td>\n",
              "      <td>3.1</td>\n",
              "      <td>3.8</td>\n",
              "      <td>1.2</td>\n",
              "    </tr>\n",
              "    <tr>\n",
              "      <th>std</th>\n",
              "      <td>0.8</td>\n",
              "      <td>0.4</td>\n",
              "      <td>1.8</td>\n",
              "      <td>0.8</td>\n",
              "    </tr>\n",
              "    <tr>\n",
              "      <th>min</th>\n",
              "      <td>4.3</td>\n",
              "      <td>2.0</td>\n",
              "      <td>1.0</td>\n",
              "      <td>0.1</td>\n",
              "    </tr>\n",
              "    <tr>\n",
              "      <th>25%</th>\n",
              "      <td>5.1</td>\n",
              "      <td>2.8</td>\n",
              "      <td>1.6</td>\n",
              "      <td>0.3</td>\n",
              "    </tr>\n",
              "    <tr>\n",
              "      <th>50%</th>\n",
              "      <td>5.8</td>\n",
              "      <td>3.0</td>\n",
              "      <td>4.3</td>\n",
              "      <td>1.3</td>\n",
              "    </tr>\n",
              "    <tr>\n",
              "      <th>75%</th>\n",
              "      <td>6.4</td>\n",
              "      <td>3.3</td>\n",
              "      <td>5.1</td>\n",
              "      <td>1.8</td>\n",
              "    </tr>\n",
              "    <tr>\n",
              "      <th>max</th>\n",
              "      <td>7.9</td>\n",
              "      <td>4.4</td>\n",
              "      <td>6.9</td>\n",
              "      <td>2.5</td>\n",
              "    </tr>\n",
              "  </tbody>\n",
              "</table>\n",
              "</div>"
            ],
            "text/plain": [
              "          0     1     2     3\n",
              "count 150.0 150.0 150.0 150.0\n",
              "mean    5.8   3.1   3.8   1.2\n",
              "std     0.8   0.4   1.8   0.8\n",
              "min     4.3   2.0   1.0   0.1\n",
              "25%     5.1   2.8   1.6   0.3\n",
              "50%     5.8   3.0   4.3   1.3\n",
              "75%     6.4   3.3   5.1   1.8\n",
              "max     7.9   4.4   6.9   2.5"
            ]
          },
          "metadata": {
            "tags": []
          },
          "execution_count": 7
        }
      ]
    },
    {
      "metadata": {
        "id": "pnCjiJxhV5h3",
        "colab_type": "text"
      },
      "cell_type": "markdown",
      "source": [
        "From the above summary statistics, we can apply our formula and find the points which are possible outliers.\n",
        "\n",
        "\n",
        "\n",
        "> IQR = 3.3 - 2.8 = 0.5\n",
        "\n",
        "\n",
        "\n",
        "> (1.5)IQR = 0.75\n",
        "\n",
        "\n",
        "\n",
        "> a = 2.8 - 0.75 = 2.05\n",
        "\n",
        "\n",
        "> b = 3.3 + 0.75 = 4.05\n",
        "\n",
        "\n",
        "> min = 2.0 and is < a,...*possible outlier*\n",
        "\n",
        "\n",
        "> max = 4.4, and is > b, ...*possible outlier*\n",
        "\n",
        "\n",
        "\n",
        "\n",
        "\n",
        "\n",
        "\n",
        "\n",
        "\n"
      ]
    },
    {
      "metadata": {
        "id": "NClPyQWVZDpB",
        "colab_type": "text"
      },
      "cell_type": "markdown",
      "source": [
        "## MULTIVARIANT OUTLIER DETECTION USING DBSCAN\n",
        "\n",
        "Multivariant outlier detection is a method used to find the outliers that show up within combinations of observations from two or more different variables.\n",
        "\n",
        "\n",
        "**Methods for Multivariant Outlier Detection**\n",
        "\n",
        "\n",
        "\n",
        "1.   Scatterplot matrices\n",
        "2.   Boxplots\n",
        "3.   DBSCAN\n",
        "\n",
        "We will be focusing on the DBSCAN method in this Notebook.\n",
        "\n",
        "### DBSCAN for Outlier Detection\n",
        "This is an unspurvised machine learning algorithm that lusters core samples (dense areas of a dataset) and denotes non-core samples (sparse portions of the dataset)\n",
        "\n",
        "DBSCAN can also be used in identifying collective outliers\n",
        "\n",
        "**Note! Outliers should make up <= 5% of the total observation.** Adjust model parameters accordingly.\n",
        "\n",
        "#### Important DBSCAN model parameter\n",
        "\n",
        "\n",
        "*   **eps**: This is the maximum distance between two samples for them to be clustered in the same neighborhood. Choosing this parameter affects the clustering (start at esp = 0.1)\n",
        "*   **min_samples**: This is the minimum number of a samples in a neighborhood for a data point to qualify as a core point (start with a very low sample size) Best practice is to adjust your parameters until less than 5% of the dataset has been labelled as outliers.\n",
        "\n",
        "\n"
      ]
    },
    {
      "metadata": {
        "id": "iR880-i5KlZa",
        "colab_type": "code",
        "colab": {}
      },
      "cell_type": "code",
      "source": [
        ""
      ],
      "execution_count": 0,
      "outputs": []
    },
    {
      "metadata": {
        "id": "kzgL_W9UUdmN",
        "colab_type": "code",
        "colab": {}
      },
      "cell_type": "code",
      "source": [
        "import seaborn as sb\n",
        "from sklearn.cluster import DBSCAN\n",
        "from collections import Counter"
      ],
      "execution_count": 0,
      "outputs": []
    },
    {
      "metadata": {
        "id": "WzL425aVVHOt",
        "colab_type": "code",
        "colab": {
          "base_uri": "https://localhost:8080/",
          "height": 54
        },
        "outputId": "16c40478-cc08-4e6c-c3f9-ecf7557dd3ed"
      },
      "cell_type": "code",
      "source": [
        "model = DBSCAN(eps=0.8, min_samples=19).fit(X)\n",
        "print(model)"
      ],
      "execution_count": 10,
      "outputs": [
        {
          "output_type": "stream",
          "text": [
            "DBSCAN(algorithm='auto', eps=0.8, leaf_size=30, metric='euclidean',\n",
            "    metric_params=None, min_samples=19, n_jobs=1, p=None)\n"
          ],
          "name": "stdout"
        }
      ]
    },
    {
      "metadata": {
        "id": "lYJr69BEVrau",
        "colab_type": "code",
        "colab": {
          "base_uri": "https://localhost:8080/",
          "height": 163
        },
        "outputId": "952c243d-683a-4c99-c8f0-a8ece208bda9"
      },
      "cell_type": "code",
      "source": [
        "outliers_df = pd.DataFrame(X)\n",
        "print(Counter(model.labels_))\n",
        "print(outliers_df[model.labels_ ==-1])"
      ],
      "execution_count": 11,
      "outputs": [
        {
          "output_type": "stream",
          "text": [
            "Counter({1: 94, 0: 50, -1: 6})\n",
            "      0   1   2   3\n",
            "98  5.1 2.5 3.0 1.1\n",
            "105 7.6 3.0 6.6 2.1\n",
            "117 7.7 3.8 6.7 2.2\n",
            "118 7.7 2.6 6.9 2.3\n",
            "122 7.7 2.8 6.7 2.0\n",
            "131 7.9 3.8 6.4 2.0\n"
          ],
          "name": "stdout"
        }
      ]
    },
    {
      "metadata": {
        "id": "XmubAk8FocmT",
        "colab_type": "text"
      },
      "cell_type": "markdown",
      "source": [
        "We can see that the min_sample was set to be 19 and the percentage of the dataset that was labelled outlier is 4% which is less than the 5% criteria, and the above dataframe shows the data points that the model has labelled as outliers."
      ]
    },
    {
      "metadata": {
        "id": "LSAkZ0I8WqG3",
        "colab_type": "code",
        "colab": {
          "base_uri": "https://localhost:8080/",
          "height": 384
        },
        "outputId": "1397bab5-745d-46c0-f911-2826525062de"
      },
      "cell_type": "code",
      "source": [
        "fig = plt.figure()\n",
        "ax = fig.add_axes([-1, -1, 1, 1])\n",
        "\n",
        "colors = model.labels_\n",
        "\n",
        "ax.scatter(X[:,2], X[:,1], c=colors, s=120)\n",
        "ax.set_xlabel('Petal Length')\n",
        "ax.set_ylabel('Sepal Width')\n",
        "plt.title('DBSCAN for Outlier Detection')"
      ],
      "execution_count": 12,
      "outputs": [
        {
          "output_type": "execute_result",
          "data": {
            "text/plain": [
              "Text(0.5,1,'DBSCAN for Outlier Detection')"
            ]
          },
          "metadata": {
            "tags": []
          },
          "execution_count": 12
        },
        {
          "output_type": "display_data",
          "data": {
            "image/png": "[encoded data removed]",
            "text/plain": [
              "<matplotlib.figure.Figure at 0x7f25dbb71ba8>"
            ]
          },
          "metadata": {
            "tags": []
          }
        }
      ]
    },
    {
      "metadata": {
        "id": "09HMJOuepUYf",
        "colab_type": "text"
      },
      "cell_type": "markdown",
      "source": [
        "We can also see the beautiful plot we can generate from the DBSCAN clustering.\n",
        "\n",
        "The plot distinctively clustered around 3 clusters and the less dense scattered cluster is our potential outliers."
      ]
    },
    {
      "metadata": {
        "id": "9u5xqRTjqpAs",
        "colab_type": "text"
      },
      "cell_type": "markdown",
      "source": [
        "## CONCLUSION\n",
        "\n",
        "The best way to conclude this notebook will be by providing some real world products where this model has been deployed or perhaps some research that is ongoing in this field.\n",
        "\n",
        "\n",
        "\n",
        "1.   [Tatvic's Anomaly Detection](https://youtu.be/2zJssv3CQs4)\n",
        "2.   [Flowmon](https://www.flowmon.com/en/solutions/use-case/network-behavior-analysis-anomaly-detection)\n",
        "\n",
        "\n",
        "\n"
      ]
    },
    {
      "metadata": {
        "id": "G4cveQ88uB2o",
        "colab_type": "code",
        "colab": {}
      },
      "cell_type": "code",
      "source": [
        ""
      ],
      "execution_count": 0,
      "outputs": []
    }
  ]
}